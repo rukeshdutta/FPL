{
 "cells": [
  {
   "cell_type": "markdown",
   "id": "a289a875",
   "metadata": {},
   "source": [
    "##### In this brief data exploration tutorial I will be taking a look at the FPL API to retreive player stats from last season and try to come up with features that may be useful in picking a team. You can find the notebook here: \n"
   ]
  },
  {
   "cell_type": "markdown",
   "id": "a1ebee4b",
   "metadata": {},
   "source": [
    "### Importing Libraries & setting up the display to show 500 rows and 500 columns\n",
    "##### We will be importing the requests library to request the fantasy premier league's API response & converting it to multiple DataFrames"
   ]
  },
  {
   "cell_type": "code",
   "execution_count": null,
   "id": "e3a6d167",
   "metadata": {},
   "outputs": [],
   "source": [
    "import requests\n",
    "import pandas as pd\n",
    "import numpy as np\n",
    "pd.set_option('display.max_rows', 500)\n",
    "pd.set_option('display.max_columns', 500)"
   ]
  },
  {
   "cell_type": "markdown",
   "id": "1ac671ff",
   "metadata": {},
   "source": [
    "### Base URL\n",
    "##### This is the base url for the data, it contains several keys, but we are mostly interested in 3 keys for now: Element, Element_type & Teams. The response here provides us data for the last season now, once the new season starts it will populate current season's data. I have added the columns of the DataFrames in the next few lines. "
   ]
  },
  {
   "cell_type": "code",
   "execution_count": null,
   "id": "e9a98706",
   "metadata": {},
   "outputs": [],
   "source": [
    "base_url = 'https://fantasy.premierleague.com/api/bootstrap-static/'"
   ]
  },
  {
   "cell_type": "markdown",
   "id": "0420f2d3",
   "metadata": {},
   "source": [
    "### Base URL for historical data, we will use this later\n",
    "##### This is the base url for the historical data for the players, we need to add player IDs which can be found in the element DataFrame, and generate responses for the players we are interested in. We can do a moving average analysis of the players to check for form indication"
   ]
  },
  {
   "cell_type": "code",
   "execution_count": null,
   "id": "8488f3b0",
   "metadata": {},
   "outputs": [],
   "source": [
    "\n",
    "historical_data_base_url= 'https://fantasy.premierleague.com/api/element-summary/'"
   ]
  },
  {
   "cell_type": "markdown",
   "id": "c5d5942e",
   "metadata": {},
   "source": [
    "### Getting the data as a json and converting into relevant dataframes"
   ]
  },
  {
   "cell_type": "code",
   "execution_count": null,
   "id": "0e56c55c",
   "metadata": {},
   "outputs": [],
   "source": [
    "r = requests.get(base_url)\n",
    "json = r.json()\n",
    "\n",
    "elements_df = pd.DataFrame(json['elements'])\n",
    "elements_types_df = pd.DataFrame(json['element_types'])\n",
    "teams_df = pd.DataFrame(json['teams'])"
   ]
  },
  {
   "cell_type": "code",
   "execution_count": null,
   "id": "9ddce385",
   "metadata": {},
   "outputs": [],
   "source": [
    "teams_df.columns"
   ]
  },
  {
   "cell_type": "code",
   "execution_count": null,
   "id": "cb2e7c5d",
   "metadata": {},
   "outputs": [],
   "source": [
    "elements_df.columns"
   ]
  },
  {
   "cell_type": "code",
   "execution_count": null,
   "id": "47fa748f",
   "metadata": {},
   "outputs": [],
   "source": [
    "elements_types_df.columns"
   ]
  },
  {
   "cell_type": "markdown",
   "id": "1678b848",
   "metadata": {},
   "source": [
    "### Let's have a look at one row "
   ]
  },
  {
   "cell_type": "code",
   "execution_count": null,
   "id": "cfa58420",
   "metadata": {},
   "outputs": [],
   "source": [
    "elements_df.head(1)"
   ]
  },
  {
   "cell_type": "code",
   "execution_count": null,
   "id": "9b74bbfe",
   "metadata": {},
   "outputs": [],
   "source": [
    "elements_types_df.head(1)"
   ]
  },
  {
   "cell_type": "code",
   "execution_count": null,
   "id": "e4950858",
   "metadata": {},
   "outputs": [],
   "source": [
    "teams_df.head(1)"
   ]
  },
  {
   "cell_type": "markdown",
   "id": "ed003baa",
   "metadata": {},
   "source": [
    "### Element type is basically a numerical column that needs to be mapped with the element_type dataframe to retrieve player position, we get team names from the teams_df"
   ]
  },
  {
   "cell_type": "code",
   "execution_count": null,
   "id": "1cb2a697",
   "metadata": {},
   "outputs": [],
   "source": [
    "elements_df['element_type'] = elements_df.element_type.map(elements_types_df.set_index('id').singular_name)\n",
    "\n",
    "elements_df['team'] = elements_df.team.map(teams_df.set_index('id').name)"
   ]
  },
  {
   "cell_type": "markdown",
   "id": "019128fa",
   "metadata": {},
   "source": [
    "### We will use the ID column from elements to pull historical data"
   ]
  },
  {
   "cell_type": "code",
   "execution_count": null,
   "id": "19c363f1",
   "metadata": {},
   "outputs": [],
   "source": [
    "player_name_id = ['id','first_name','second_name','team']\n",
    "elements_df.head(5)[player_name_id]"
   ]
  },
  {
   "cell_type": "markdown",
   "id": "bfde860d",
   "metadata": {},
   "source": [
    "#### Element_type is player position which needs to be mapped with element_type df & team needs to be mapped with teams_df"
   ]
  },
  {
   "cell_type": "code",
   "execution_count": null,
   "id": "ca679e4a",
   "metadata": {},
   "outputs": [],
   "source": [
    "elements_df.loc[:,'code':].head()"
   ]
  },
  {
   "cell_type": "markdown",
   "id": "cf582372",
   "metadata": {},
   "source": [
    "### Finding the best players with the provided ICT index rank \n",
    "##### They provide with an index rank for the players based on Influence, Creativity and Threat. We will take a look at the top players based on ICT index, Top points last season & Value_season which is total_points divided by current cost of the player"
   ]
  },
  {
   "cell_type": "code",
   "execution_count": null,
   "id": "a1f3a52e",
   "metadata": {},
   "outputs": [],
   "source": [
    "player_detail_cols = ['id','first_name','second_name','team','ict_index','total_points','now_cost','value_season']"
   ]
  },
  {
   "cell_type": "code",
   "execution_count": null,
   "id": "6bc88311",
   "metadata": {},
   "outputs": [],
   "source": [
    "elements_df.sort_values(['ict_index_rank']).head(10)[player_detail_cols]"
   ]
  },
  {
   "cell_type": "markdown",
   "id": "5afd654a",
   "metadata": {},
   "source": [
    "### Finding the best players with max points last season\n",
    "##### The ranking of the players change slightly, with Harry Kane coming up to number 2 instead of 3 in the ICT rank, they also provide and ICT rank type wise which is the rank in the player's position"
   ]
  },
  {
   "cell_type": "code",
   "execution_count": null,
   "id": "f98aab8a",
   "metadata": {},
   "outputs": [],
   "source": [
    "elements_df.sort_values(['total_points'],ascending=False).head(10)[player_detail_cols]"
   ]
  },
  {
   "cell_type": "markdown",
   "id": "f2e66b6d",
   "metadata": {},
   "source": [
    "### Trimming the dataframe to keep relevant columns for now\n",
    "##### There are a lot of columns which we can ignore now for the timebeing. I think the following columns will be helpful in finding out a perfect team"
   ]
  },
  {
   "cell_type": "code",
   "execution_count": null,
   "id": "64bc0117",
   "metadata": {},
   "outputs": [],
   "source": [
    "trimmed_elements_df = elements_df[['first_name','second_name',\\\n",
    "                                   'id','ict_index',\n",
    "                                'code',\\\n",
    "                                'team',\\\n",
    "                                'element_type','selected_by_percent','now_cost',\\\n",
    "                                'minutes','transfers_in',\\\n",
    "                                'ict_index_rank', 'ict_index_rank_type',\\\n",
    "                                'value_season','total_points','points_per_game']]"
   ]
  },
  {
   "cell_type": "markdown",
   "id": "47db874b",
   "metadata": {},
   "source": [
    "### Creating new features which will be used to create another ranking mechanism\n",
    "##### Points per minute is an useful metric because if a player is a non starter, we need to pick players who have the maximum output in the shortest amount of time played, since number of games have not been provided we are taking minutes divided by 90 to calculate total matches played. Note this may not be 100% accurate"
   ]
  },
  {
   "cell_type": "code",
   "execution_count": null,
   "id": "8b5633c0",
   "metadata": {},
   "outputs": [],
   "source": [
    "trimmed_elements_df['points_per_minute'] = trimmed_elements_df['total_points']/trimmed_elements_df['minutes']\n",
    "trimmed_elements_df['matches'] = trimmed_elements_df['minutes']/90\n",
    "trimmed_elements_df['value_season'] =trimmed_elements_df['value_season'].astype(float)\n"
   ]
  },
  {
   "cell_type": "markdown",
   "id": "06599baa",
   "metadata": {},
   "source": [
    "### Filtering down more with players less than 900 minutes in the season & value_seaon which is basically (total_points/cost) less than 15"
   ]
  },
  {
   "cell_type": "code",
   "execution_count": null,
   "id": "fa9e1dac",
   "metadata": {},
   "outputs": [],
   "source": [
    "trimmed_elements_filtered = trimmed_elements_df[(trimmed_elements_df['minutes']>900)&(trimmed_elements_df['value_season']>15)]\n",
    "\n",
    "trimmed_elements_filtered.sort_values('value_season',ascending=False).head(11)[player_detail_cols]"
   ]
  },
  {
   "cell_type": "markdown",
   "id": "09efcef1",
   "metadata": {},
   "source": [
    "### Players with lowest matches played>> These players may be potential non-starters. "
   ]
  },
  {
   "cell_type": "code",
   "execution_count": null,
   "id": "ea123c12",
   "metadata": {},
   "outputs": [],
   "source": [
    "trimmed_elements_filtered.sort_values('matches').head()"
   ]
  },
  {
   "cell_type": "markdown",
   "id": "ed4967e5",
   "metadata": {},
   "source": [
    "### Correlation between ICT Index & Total Points\n",
    "##### The correlation between the ICT index and total points is really high. So it would be wise to take in players with high ICT index and High value- to optimize the total budget"
   ]
  },
  {
   "cell_type": "code",
   "execution_count": null,
   "id": "ad1e1530",
   "metadata": {},
   "outputs": [],
   "source": [
    "trimmed_elements_filtered['ict_index'].astype(float).corr(trimmed_elements_filtered['total_points'])"
   ]
  },
  {
   "cell_type": "markdown",
   "id": "ea6221ab",
   "metadata": {},
   "source": [
    "### Making a column called seaon_played to find out players with good probability of playing\n",
    "##### Some of the columns are in string format, we need to convert them to float format to make some calculations"
   ]
  },
  {
   "cell_type": "code",
   "execution_count": null,
   "id": "6bb30aae",
   "metadata": {},
   "outputs": [],
   "source": [
    "trimmed_elements_filtered.points_per_game = trimmed_elements_filtered.points_per_game.astype(float)\n",
    "\n",
    "trimmed_elements_filtered['matches'] = trimmed_elements_filtered['matches'].apply(lambda x: 38 if np.ceil(x)>=38 else np.ceil(x))\n",
    "\n",
    "trimmed_elements_filtered['season_played'] = trimmed_elements_filtered['matches']/38\n",
    "\n",
    "trimmed_elements_filtered.head()"
   ]
  },
  {
   "cell_type": "markdown",
   "id": "1d42e69e",
   "metadata": {},
   "source": [
    "### Checking goal keepers with high starts in the season"
   ]
  },
  {
   "cell_type": "code",
   "execution_count": null,
   "id": "11ad3546",
   "metadata": {},
   "outputs": [],
   "source": [
    "trimmed_elements_filtered[trimmed_elements_filtered['element_type']=='Goalkeeper'].sort_values(by=['season_played'],ascending=False).head(5)"
   ]
  },
  {
   "cell_type": "markdown",
   "id": "2752568f",
   "metadata": {},
   "source": [
    "### Players who have played the whole season"
   ]
  },
  {
   "cell_type": "code",
   "execution_count": null,
   "id": "a98bb2da",
   "metadata": {},
   "outputs": [],
   "source": [
    "trimmed_elements_filtered[trimmed_elements_filtered['season_played']==1].sort_values(['ict_index_rank_type'])"
   ]
  },
  {
   "cell_type": "markdown",
   "id": "279e6d2d",
   "metadata": {},
   "source": [
    "### Player positions with highest matches played during the season"
   ]
  },
  {
   "cell_type": "code",
   "execution_count": null,
   "id": "68beaf07",
   "metadata": {},
   "outputs": [],
   "source": [
    "trimmed_elements_filtered[trimmed_elements_filtered['season_played']==1]['element_type'].value_counts()"
   ]
  },
  {
   "cell_type": "markdown",
   "id": "9a862d43",
   "metadata": {},
   "source": [
    "# Next step will be to build an budget optimizer and create a team with certain contstraints. Will be back soon! "
   ]
  }
 ],
 "metadata": {
  "kernelspec": {
   "display_name": "Python 3",
   "language": "python",
   "name": "python3"
  },
  "language_info": {
   "codemirror_mode": {
    "name": "ipython",
    "version": 3
   },
   "file_extension": ".py",
   "mimetype": "text/x-python",
   "name": "python",
   "nbconvert_exporter": "python",
   "pygments_lexer": "ipython3",
   "version": "3.8.3"
  }
 },
 "nbformat": 4,
 "nbformat_minor": 5
}
